{
  "cells": [
    {
      "cell_type": "code",
      "execution_count": 1,
      "metadata": {
        "id": "vE4j-bWGBWLr"
      },
      "outputs": [],
      "source": [
        "import pandas as pd\n",
        "import numpy as np"
      ]
    },
    {
      "cell_type": "markdown",
      "source": [
        "## exercise 1.1\n",
        "\n",
        "yes we can find the frequency of letter \n",
        "here  i have found frequency of letter from the data and created table for that together with position of letter and also prepared frequeny of letter without consider position\n",
        "\n",
        "as we can see from table last columns represent frequency of letter  and 1st 2nd 3rd 4th 5th column represent frequency of letter at particular position "
      ],
      "metadata": {
        "id": "oM7aksenEYS-"
      }
    },
    {
      "cell_type": "markdown",
      "source": [
        "if we consider frequency of letter\n",
        "\n",
        "|index|1st position|2nd position|3rd position|4th position|5th position|total frequency|\n",
        "|---|---|---|---|---|---|---|\n",
        "|a|3064937788|5416733878|5756221127|2168383925|848725059|17255001777|\n",
        "|b|2756024815|1303938518|612936939|279791838|35839685|4988531795|\n",
        "|c|2682059784|320736803|516551724|2787395553|806764900|7113508764|\n",
        "|d|1156531585|339391627|1525579788|1446151547|2733990439|7201644986|\n",
        "|e|917720868|3406202921|2718854824|6871389338|5897931207|19812099158|\n",
        "|f|2771067885|473171794|144275040|136068090|127302150|3651884959|\n",
        "|g|1947046218|96302775|1558497084|999597851|1171463333|5772907261|\n",
        "|h|1622435344|3104199161|1048602016|874722273|1966657539|8616616333|\n",
        "|i|17825|17825|17825|17825|17825|89125|\n",
        "|j|4|4|4|4|4|20|\n",
        "|k|256463286|41129291|699155923|810322105|1332474924|3139545529|\n",
        "|l|2000578440|2137746111|1102759547|2270112246|1830200323|9341396667|\n",
        "|m|2695119579|988463076|1255029279|1142923483|582911363|6664446780|\n",
        "|n|879438862|942230960|2407460929|4256935578|1724236177|10210302506|\n",
        "|o|1294186840|6511947981|4110154692|533466176|694309274|13144064963|\n",
        "|p|3023147521|702288208|751381127|356736265|567093799|5400646920|\n",
        "|q|0|0|0|0|0|0|\n",
        "|r|1777347703|3504492582|3824135939|3076372777|3638031239|15820380240|\n",
        "|s|3654875908|477520658|1066344895|2211756208|7273708242|14684205911|\n",
        "|t|3914049799|2600891571|2165137358|2161041928|5255500392|16096621048|\n",
        "|u|930245548|2195004894|2946847615|2316061338|30253312|8418412707|\n",
        "|v|0|0|0|0|0|0|\n",
        "|w|0|0|0|0|0|0|\n",
        "|x|0|0|0|0|0|0|\n",
        "|y|615181930|278818509|406567109|83373799|2174112147|3558053494|\n",
        "|z|0|0|0|0|0|0|\n",
        "\n",
        "if we does not coside frequency\n",
        "\n",
        "\n",
        "|index|1st position|2nd position|3rd position|4th position|5th position|total frequency|\n",
        "|---|---|---|---|---|---|---|\n",
        "|a|1072|3068|1469|1645|1477|8731|\n",
        "|b|1283|214|524|355|156|2532|\n",
        "|c|1303|445|782|928|476|3934|\n",
        "|d|1005|227|706|778|732|3448|\n",
        "|e|551|1963|1020|2510|2002|8046|\n",
        "|f|844|155|221|193|158|1571|\n",
        "|g|871|169|635|519|383|2577|\n",
        "|h|830|780|418|511|635|3174|\n",
        "|i|17825|17825|17825|17825|17825|89125|\n",
        "|j|4|4|4|4|4|20|\n",
        "|k|835|158|428|628|500|2549|\n",
        "|l|884|883|1221|830|869|4687|\n",
        "|m|1296|346|834|554|442|3472|\n",
        "|n|731|537|1469|1189|1504|5430|\n",
        "|o|480|2434|988|1145|1227|6274|\n",
        "|p|1199|363|491|395|291|2739|\n",
        "|q|0|0|0|0|0|0|\n",
        "|r|890|1334|1947|1064|1035|6270|\n",
        "|s|1622|468|921|719|2613|6343|\n",
        "|t|1071|447|1050|1130|1101|4799|\n",
        "|u|336|1567|888|741|298|3830|\n",
        "|v|0|0|0|0|0|0|\n",
        "|w|0|0|0|0|0|0|\n",
        "|x|0|0|0|0|0|0|\n",
        "|y|192|480|370|256|1092|2390|\n",
        "|z|0|0|0|0|0|0|"
      ],
      "metadata": {
        "id": "6rWrMVBkFVoc"
      }
    },
    {
      "cell_type": "markdown",
      "source": [
        "after that i have created linear program for finding which letter has more frequency and they lies at which position "
      ],
      "metadata": {
        "id": "RWesKcv2Fjdm"
      }
    },
    {
      "cell_type": "code",
      "execution_count": 2,
      "metadata": {
        "id": "R4m40nQSDMbX"
      },
      "outputs": [],
      "source": [
        "data=pd.read_csv('freq_new.txt',sep=',',header=None).rename(columns={0:'word',1:'frequency'},inplace=False)"
      ]
    },
    {
      "cell_type": "code",
      "execution_count": 3,
      "metadata": {
        "id": "OWsRvVyIFIxX"
      },
      "outputs": [],
      "source": [
        "d=[[] for i in range(5)]\n",
        "for i in range(len(data['word'])):\n",
        "  for j in range(5):\n",
        "    d[j].append(list(list(data['word'])[i])[j])"
      ]
    },
    {
      "cell_type": "code",
      "execution_count": 4,
      "metadata": {
        "id": "kUWIoeeXiAla"
      },
      "outputs": [],
      "source": [
        "data['1st']=d[0]\n",
        "data['2nd']=d[1]\n",
        "data['3rd']=d[2]\n",
        "data['4th']=d[3]\n",
        "data['5th']=d[4]"
      ]
    },
    {
      "cell_type": "code",
      "execution_count": 5,
      "metadata": {
        "id": "r5E7W7U6kG1g"
      },
      "outputs": [],
      "source": [
        "letter=['a','b','c','d','e','f','g','h','i','j','k','l','m','n','o','p','q','r','s','t','u','v','w','x','y','z']\n",
        "letter1=['a','b','c','d','e','f','g','h','i','j','k','l','m','n','o','p','q','r','s','t','u','v','w','x','y','z']"
      ]
    },
    {
      "cell_type": "code",
      "execution_count": 6,
      "metadata": {
        "id": "O5ykHuIMinl4"
      },
      "outputs": [],
      "source": [
        "a=[0,0,0,0,0]\n",
        "for i in range(len(data['word'])):\n",
        "  for j in range(5):\n",
        "    if data.iloc[i,j+2]=='a':\n",
        "      a[j]+=data.iloc[i,1]\n",
        "b=[0,0,0,0,0]\n",
        "for i in range(len(data['word'])):\n",
        "  for j in range(5):\n",
        "    if data.iloc[i,j+2]=='b':\n",
        "      b[j]+=data.iloc[i,1] \n",
        "c=[0,0,0,0,0]\n",
        "for i in range(len(data['word'])):\n",
        "  for j in range(5):\n",
        "    if data.iloc[i,j+2]=='c':\n",
        "      c[j]+=data.iloc[i,1] \n",
        "d=[0,0,0,0,0]\n",
        "for i in range(len(data['word'])):\n",
        "  for j in range(5):\n",
        "    if data.iloc[i,j+2]=='d':\n",
        "      d[j]+=data.iloc[i,1] \n",
        "e=[0,0,0,0,0]\n",
        "for i in range(len(data['word'])):\n",
        "  for j in range(5):\n",
        "    if data.iloc[i,j+2]=='e':\n",
        "      e[j]+=data.iloc[i,1] \n",
        "f=[0,0,0,0,0]\n",
        "for i in range(len(data['word'])):\n",
        "  for j in range(5):\n",
        "    if data.iloc[i,j+2]=='f':\n",
        "      f[j]+=data.iloc[i,1] \n",
        "g=[0,0,0,0,0]\n",
        "for i in range(len(data['word'])):\n",
        "  for j in range(5):\n",
        "    if data.iloc[i,j+2]=='g':\n",
        "      g[j]+=data.iloc[i,1] \n",
        "h=[0,0,0,0,0]\n",
        "for k in range(len(data['word'])):\n",
        "  for l in range(5):\n",
        "    if data.iloc[k,l+2]=='h':\n",
        "      h[l]+=data.iloc[k,1] \n",
        "i=[0,0,0,0,0]\n",
        "for k in range(len(data['word'])):\n",
        "  for l in range(5):\n",
        "    if data.iloc[k,l+2]=='i':\n",
        "      i[l]+=data.iloc[k,1] \n",
        "j=[0,0,0,0,0]\n",
        "for k in range(len(data['word'])):\n",
        "  for l in range(5):\n",
        "    if data.iloc[k,l+2]=='j':\n",
        "      j[l]+=data.iloc[k,1] \n",
        "k=[0,0,0,0,0]\n",
        "for i in range(len(data['word'])):\n",
        "  for j in range(5):\n",
        "    if data.iloc[i,j+2]=='k':\n",
        "      k[j]+=data.iloc[i,1] \n",
        "l=[0,0,0,0,0]\n",
        "for i in range(len(data['word'])):\n",
        "  for j in range(5):\n",
        "    if data.iloc[i,j+2]=='l':\n",
        "      l[j]+=data.iloc[i,1] \n",
        "m=[0,0,0,0,0]\n",
        "for i in range(len(data['word'])):\n",
        "  for j in range(5):\n",
        "    if data.iloc[i,j+2]=='m':\n",
        "      m[j]+=data.iloc[i,1] \n",
        "n=[0,0,0,0,0]\n",
        "for i in range(len(data['word'])):\n",
        "  for j in range(5):\n",
        "    if data.iloc[i,j+2]=='n':\n",
        "      n[j]+=data.iloc[i,1] \n",
        "o=[0,0,0,0,0]\n",
        "for i in range(len(data['word'])):\n",
        "  for j in range(5):\n",
        "    if data.iloc[i,j+2]=='o':\n",
        "      o[j]+=data.iloc[i,1] \n",
        "p=[0,0,0,0,0]\n",
        "for i in range(len(data['word'])):\n",
        "  for j in range(5):\n",
        "    if data.iloc[i,j+2]=='p':\n",
        "      p[j]+=data.iloc[i,1] \n",
        "q=[0,0,0,0,0]\n",
        "for i in range(len(data['word'])):\n",
        "  for j in range(5):\n",
        "    if data.iloc[i,j+2]=='q':\n",
        "      q[j]+=data.iloc[i,1] \n",
        "r=[0,0,0,0,0]\n",
        "for i in range(len(data['word'])):\n",
        "  for j in range(5):\n",
        "    if data.iloc[i,j+2]=='r':\n",
        "      r[j]+=data.iloc[i,1] \n",
        "s=[0,0,0,0,0]\n",
        "for i in range(len(data['word'])):\n",
        "  for j in range(5):\n",
        "    if data.iloc[i,j+2]=='s':\n",
        "      s[j]+=data.iloc[i,1]  \n",
        "t=[0,0,0,0,0]\n",
        "for i in range(len(data['word'])):\n",
        "  for j in range(5):\n",
        "    if data.iloc[i,j+2]=='t':\n",
        "      t[j]+=data.iloc[i,1] \n",
        "u=[0,0,0,0,0]\n",
        "for i in range(len(data['word'])):\n",
        "  for j in range(5):\n",
        "    if data.iloc[i,j+2]=='u':\n",
        "      u[j]+=data.iloc[i,1] \n",
        "v=[0,0,0,0,0]\n",
        "for i in range(len(data['word'])):\n",
        "  for j in range(5):\n",
        "    if data.iloc[i,j+2]=='v':\n",
        "      v[j]+=data.iloc[i,1] \n",
        "w=[0,0,0,0,0]\n",
        "for i in range(len(data['word'])):\n",
        "  for j in range(5):\n",
        "    if data.iloc[i,j+2]=='w':\n",
        "      w[j]+=data.iloc[i,1]  \n",
        "x=[0,0,0,0,0]\n",
        "for i in range(len(data['word'])):\n",
        "  for j in range(5):\n",
        "    if data.iloc[i,j+2]=='x':\n",
        "      x[j]+=data.iloc[i,1] \n",
        "y=[0,0,0,0,0]\n",
        "for i in range(len(data['word'])):\n",
        "  for j in range(5):\n",
        "    if data.iloc[i,j+2]=='y':\n",
        "      y[j]+=data.iloc[i,1] \n",
        "z=[0,0,0,0,0]\n",
        "for i in range(len(data['word'])):\n",
        "  for j in range(5):\n",
        "    if data.iloc[i,j+2]=='z':\n",
        "      z[j]+=data.iloc[i,1] "
      ]
    },
    {
      "cell_type": "code",
      "execution_count": 7,
      "metadata": {
        "id": "QuIgiQSlj1Zl"
      },
      "outputs": [],
      "source": [
        "vi=[a,b,c,d,e,f,g,h,i,j,k,l,m,n,o,p,q,r,s,t,u,v,w,x,y,z]"
      ]
    },
    {
      "cell_type": "code",
      "execution_count": 8,
      "metadata": {
        "id": "eTkT0JOWlUpn"
      },
      "outputs": [],
      "source": [
        "ca=pd.DataFrame.from_dict({})"
      ]
    },
    {
      "cell_type": "code",
      "execution_count": 9,
      "metadata": {
        "id": "V6yjXPVJj2s6"
      },
      "outputs": [],
      "source": [
        "for i in range(26):\n",
        "  ca[letter[i]]=vi[i]"
      ]
    },
    {
      "cell_type": "code",
      "execution_count": 10,
      "metadata": {
        "id": "UZfSe129m-mg"
      },
      "outputs": [],
      "source": [
        "letter_data=ca.transpose()\n",
        "letter_data['total frequency']=letter_data.sum(axis=1)"
      ]
    },
    {
      "cell_type": "code",
      "source": [
        "letter_frequency=letter_data.rename(columns={0:'1st position',1:'2nd position',2:'3rd position',3:'4th position',4:'5th position'},inplace=False)"
      ],
      "metadata": {
        "id": "thbg6hR2z9mH"
      },
      "execution_count": 11,
      "outputs": []
    },
    {
      "cell_type": "code",
      "source": [
        "letter_frequency"
      ],
      "metadata": {
        "colab": {
          "base_uri": "https://localhost:8080/",
          "height": 864
        },
        "id": "LvSrSBwjz1Ue",
        "outputId": "c2e10fd1-11f5-4240-9028-9ed55acdc10c"
      },
      "execution_count": 12,
      "outputs": [
        {
          "output_type": "execute_result",
          "data": {
            "text/plain": [
              "   1st position  2nd position  3rd position  4th position  5th position  \\\n",
              "a    3064937788    5416733878    5756221127    2168383925     848725059   \n",
              "b    2756024815    1303938518     612936939     279791838      35839685   \n",
              "c    2682059784     320736803     516551724    2787395553     806764900   \n",
              "d    1156531585     339391627    1525579788    1446151547    2733990439   \n",
              "e     917720868    3406202921    2718854824    6871389338    5897931207   \n",
              "f    2771067885     473171794     144275040     136068090     127302150   \n",
              "g    1947046218      96302775    1558497084     999597851    1171463333   \n",
              "h    1622435344    3104199161    1048602016     874722273    1966657539   \n",
              "i         17825         17825         17825         17825         17825   \n",
              "j             4             4             4             4             4   \n",
              "k     256463286      41129291     699155923     810322105    1332474924   \n",
              "l    2000578440    2137746111    1102759547    2270112246    1830200323   \n",
              "m    2695119579     988463076    1255029279    1142923483     582911363   \n",
              "n     879438862     942230960    2407460929    4256935578    1724236177   \n",
              "o    1294186840    6511947981    4110154692     533466176     694309274   \n",
              "p    3023147521     702288208     751381127     356736265     567093799   \n",
              "q             0             0             0             0             0   \n",
              "r    1777347703    3504492582    3824135939    3076372777    3638031239   \n",
              "s    3654875908     477520658    1066344895    2211756208    7273708242   \n",
              "t    3914049799    2600891571    2165137358    2161041928    5255500392   \n",
              "u     930245548    2195004894    2946847615    2316061338      30253312   \n",
              "v             0             0             0             0             0   \n",
              "w             0             0             0             0             0   \n",
              "x             0             0             0             0             0   \n",
              "y     615181930     278818509     406567109      83373799    2174112147   \n",
              "z             0             0             0             0             0   \n",
              "\n",
              "   total frequency  \n",
              "a      17255001777  \n",
              "b       4988531795  \n",
              "c       7113508764  \n",
              "d       7201644986  \n",
              "e      19812099158  \n",
              "f       3651884959  \n",
              "g       5772907261  \n",
              "h       8616616333  \n",
              "i            89125  \n",
              "j               20  \n",
              "k       3139545529  \n",
              "l       9341396667  \n",
              "m       6664446780  \n",
              "n      10210302506  \n",
              "o      13144064963  \n",
              "p       5400646920  \n",
              "q                0  \n",
              "r      15820380240  \n",
              "s      14684205911  \n",
              "t      16096621048  \n",
              "u       8418412707  \n",
              "v                0  \n",
              "w                0  \n",
              "x                0  \n",
              "y       3558053494  \n",
              "z                0  "
            ],
            "text/html": [
              "\n",
              "  <div id=\"df-ca0c1b33-951f-447f-9629-fa298c2651ef\">\n",
              "    <div class=\"colab-df-container\">\n",
              "      <div>\n",
              "<style scoped>\n",
              "    .dataframe tbody tr th:only-of-type {\n",
              "        vertical-align: middle;\n",
              "    }\n",
              "\n",
              "    .dataframe tbody tr th {\n",
              "        vertical-align: top;\n",
              "    }\n",
              "\n",
              "    .dataframe thead th {\n",
              "        text-align: right;\n",
              "    }\n",
              "</style>\n",
              "<table border=\"1\" class=\"dataframe\">\n",
              "  <thead>\n",
              "    <tr style=\"text-align: right;\">\n",
              "      <th></th>\n",
              "      <th>1st position</th>\n",
              "      <th>2nd position</th>\n",
              "      <th>3rd position</th>\n",
              "      <th>4th position</th>\n",
              "      <th>5th position</th>\n",
              "      <th>total frequency</th>\n",
              "    </tr>\n",
              "  </thead>\n",
              "  <tbody>\n",
              "    <tr>\n",
              "      <th>a</th>\n",
              "      <td>3064937788</td>\n",
              "      <td>5416733878</td>\n",
              "      <td>5756221127</td>\n",
              "      <td>2168383925</td>\n",
              "      <td>848725059</td>\n",
              "      <td>17255001777</td>\n",
              "    </tr>\n",
              "    <tr>\n",
              "      <th>b</th>\n",
              "      <td>2756024815</td>\n",
              "      <td>1303938518</td>\n",
              "      <td>612936939</td>\n",
              "      <td>279791838</td>\n",
              "      <td>35839685</td>\n",
              "      <td>4988531795</td>\n",
              "    </tr>\n",
              "    <tr>\n",
              "      <th>c</th>\n",
              "      <td>2682059784</td>\n",
              "      <td>320736803</td>\n",
              "      <td>516551724</td>\n",
              "      <td>2787395553</td>\n",
              "      <td>806764900</td>\n",
              "      <td>7113508764</td>\n",
              "    </tr>\n",
              "    <tr>\n",
              "      <th>d</th>\n",
              "      <td>1156531585</td>\n",
              "      <td>339391627</td>\n",
              "      <td>1525579788</td>\n",
              "      <td>1446151547</td>\n",
              "      <td>2733990439</td>\n",
              "      <td>7201644986</td>\n",
              "    </tr>\n",
              "    <tr>\n",
              "      <th>e</th>\n",
              "      <td>917720868</td>\n",
              "      <td>3406202921</td>\n",
              "      <td>2718854824</td>\n",
              "      <td>6871389338</td>\n",
              "      <td>5897931207</td>\n",
              "      <td>19812099158</td>\n",
              "    </tr>\n",
              "    <tr>\n",
              "      <th>f</th>\n",
              "      <td>2771067885</td>\n",
              "      <td>473171794</td>\n",
              "      <td>144275040</td>\n",
              "      <td>136068090</td>\n",
              "      <td>127302150</td>\n",
              "      <td>3651884959</td>\n",
              "    </tr>\n",
              "    <tr>\n",
              "      <th>g</th>\n",
              "      <td>1947046218</td>\n",
              "      <td>96302775</td>\n",
              "      <td>1558497084</td>\n",
              "      <td>999597851</td>\n",
              "      <td>1171463333</td>\n",
              "      <td>5772907261</td>\n",
              "    </tr>\n",
              "    <tr>\n",
              "      <th>h</th>\n",
              "      <td>1622435344</td>\n",
              "      <td>3104199161</td>\n",
              "      <td>1048602016</td>\n",
              "      <td>874722273</td>\n",
              "      <td>1966657539</td>\n",
              "      <td>8616616333</td>\n",
              "    </tr>\n",
              "    <tr>\n",
              "      <th>i</th>\n",
              "      <td>17825</td>\n",
              "      <td>17825</td>\n",
              "      <td>17825</td>\n",
              "      <td>17825</td>\n",
              "      <td>17825</td>\n",
              "      <td>89125</td>\n",
              "    </tr>\n",
              "    <tr>\n",
              "      <th>j</th>\n",
              "      <td>4</td>\n",
              "      <td>4</td>\n",
              "      <td>4</td>\n",
              "      <td>4</td>\n",
              "      <td>4</td>\n",
              "      <td>20</td>\n",
              "    </tr>\n",
              "    <tr>\n",
              "      <th>k</th>\n",
              "      <td>256463286</td>\n",
              "      <td>41129291</td>\n",
              "      <td>699155923</td>\n",
              "      <td>810322105</td>\n",
              "      <td>1332474924</td>\n",
              "      <td>3139545529</td>\n",
              "    </tr>\n",
              "    <tr>\n",
              "      <th>l</th>\n",
              "      <td>2000578440</td>\n",
              "      <td>2137746111</td>\n",
              "      <td>1102759547</td>\n",
              "      <td>2270112246</td>\n",
              "      <td>1830200323</td>\n",
              "      <td>9341396667</td>\n",
              "    </tr>\n",
              "    <tr>\n",
              "      <th>m</th>\n",
              "      <td>2695119579</td>\n",
              "      <td>988463076</td>\n",
              "      <td>1255029279</td>\n",
              "      <td>1142923483</td>\n",
              "      <td>582911363</td>\n",
              "      <td>6664446780</td>\n",
              "    </tr>\n",
              "    <tr>\n",
              "      <th>n</th>\n",
              "      <td>879438862</td>\n",
              "      <td>942230960</td>\n",
              "      <td>2407460929</td>\n",
              "      <td>4256935578</td>\n",
              "      <td>1724236177</td>\n",
              "      <td>10210302506</td>\n",
              "    </tr>\n",
              "    <tr>\n",
              "      <th>o</th>\n",
              "      <td>1294186840</td>\n",
              "      <td>6511947981</td>\n",
              "      <td>4110154692</td>\n",
              "      <td>533466176</td>\n",
              "      <td>694309274</td>\n",
              "      <td>13144064963</td>\n",
              "    </tr>\n",
              "    <tr>\n",
              "      <th>p</th>\n",
              "      <td>3023147521</td>\n",
              "      <td>702288208</td>\n",
              "      <td>751381127</td>\n",
              "      <td>356736265</td>\n",
              "      <td>567093799</td>\n",
              "      <td>5400646920</td>\n",
              "    </tr>\n",
              "    <tr>\n",
              "      <th>q</th>\n",
              "      <td>0</td>\n",
              "      <td>0</td>\n",
              "      <td>0</td>\n",
              "      <td>0</td>\n",
              "      <td>0</td>\n",
              "      <td>0</td>\n",
              "    </tr>\n",
              "    <tr>\n",
              "      <th>r</th>\n",
              "      <td>1777347703</td>\n",
              "      <td>3504492582</td>\n",
              "      <td>3824135939</td>\n",
              "      <td>3076372777</td>\n",
              "      <td>3638031239</td>\n",
              "      <td>15820380240</td>\n",
              "    </tr>\n",
              "    <tr>\n",
              "      <th>s</th>\n",
              "      <td>3654875908</td>\n",
              "      <td>477520658</td>\n",
              "      <td>1066344895</td>\n",
              "      <td>2211756208</td>\n",
              "      <td>7273708242</td>\n",
              "      <td>14684205911</td>\n",
              "    </tr>\n",
              "    <tr>\n",
              "      <th>t</th>\n",
              "      <td>3914049799</td>\n",
              "      <td>2600891571</td>\n",
              "      <td>2165137358</td>\n",
              "      <td>2161041928</td>\n",
              "      <td>5255500392</td>\n",
              "      <td>16096621048</td>\n",
              "    </tr>\n",
              "    <tr>\n",
              "      <th>u</th>\n",
              "      <td>930245548</td>\n",
              "      <td>2195004894</td>\n",
              "      <td>2946847615</td>\n",
              "      <td>2316061338</td>\n",
              "      <td>30253312</td>\n",
              "      <td>8418412707</td>\n",
              "    </tr>\n",
              "    <tr>\n",
              "      <th>v</th>\n",
              "      <td>0</td>\n",
              "      <td>0</td>\n",
              "      <td>0</td>\n",
              "      <td>0</td>\n",
              "      <td>0</td>\n",
              "      <td>0</td>\n",
              "    </tr>\n",
              "    <tr>\n",
              "      <th>w</th>\n",
              "      <td>0</td>\n",
              "      <td>0</td>\n",
              "      <td>0</td>\n",
              "      <td>0</td>\n",
              "      <td>0</td>\n",
              "      <td>0</td>\n",
              "    </tr>\n",
              "    <tr>\n",
              "      <th>x</th>\n",
              "      <td>0</td>\n",
              "      <td>0</td>\n",
              "      <td>0</td>\n",
              "      <td>0</td>\n",
              "      <td>0</td>\n",
              "      <td>0</td>\n",
              "    </tr>\n",
              "    <tr>\n",
              "      <th>y</th>\n",
              "      <td>615181930</td>\n",
              "      <td>278818509</td>\n",
              "      <td>406567109</td>\n",
              "      <td>83373799</td>\n",
              "      <td>2174112147</td>\n",
              "      <td>3558053494</td>\n",
              "    </tr>\n",
              "    <tr>\n",
              "      <th>z</th>\n",
              "      <td>0</td>\n",
              "      <td>0</td>\n",
              "      <td>0</td>\n",
              "      <td>0</td>\n",
              "      <td>0</td>\n",
              "      <td>0</td>\n",
              "    </tr>\n",
              "  </tbody>\n",
              "</table>\n",
              "</div>\n",
              "      <button class=\"colab-df-convert\" onclick=\"convertToInteractive('df-ca0c1b33-951f-447f-9629-fa298c2651ef')\"\n",
              "              title=\"Convert this dataframe to an interactive table.\"\n",
              "              style=\"display:none;\">\n",
              "        \n",
              "  <svg xmlns=\"http://www.w3.org/2000/svg\" height=\"24px\"viewBox=\"0 0 24 24\"\n",
              "       width=\"24px\">\n",
              "    <path d=\"M0 0h24v24H0V0z\" fill=\"none\"/>\n",
              "    <path d=\"M18.56 5.44l.94 2.06.94-2.06 2.06-.94-2.06-.94-.94-2.06-.94 2.06-2.06.94zm-11 1L8.5 8.5l.94-2.06 2.06-.94-2.06-.94L8.5 2.5l-.94 2.06-2.06.94zm10 10l.94 2.06.94-2.06 2.06-.94-2.06-.94-.94-2.06-.94 2.06-2.06.94z\"/><path d=\"M17.41 7.96l-1.37-1.37c-.4-.4-.92-.59-1.43-.59-.52 0-1.04.2-1.43.59L10.3 9.45l-7.72 7.72c-.78.78-.78 2.05 0 2.83L4 21.41c.39.39.9.59 1.41.59.51 0 1.02-.2 1.41-.59l7.78-7.78 2.81-2.81c.8-.78.8-2.07 0-2.86zM5.41 20L4 18.59l7.72-7.72 1.47 1.35L5.41 20z\"/>\n",
              "  </svg>\n",
              "      </button>\n",
              "      \n",
              "  <style>\n",
              "    .colab-df-container {\n",
              "      display:flex;\n",
              "      flex-wrap:wrap;\n",
              "      gap: 12px;\n",
              "    }\n",
              "\n",
              "    .colab-df-convert {\n",
              "      background-color: #E8F0FE;\n",
              "      border: none;\n",
              "      border-radius: 50%;\n",
              "      cursor: pointer;\n",
              "      display: none;\n",
              "      fill: #1967D2;\n",
              "      height: 32px;\n",
              "      padding: 0 0 0 0;\n",
              "      width: 32px;\n",
              "    }\n",
              "\n",
              "    .colab-df-convert:hover {\n",
              "      background-color: #E2EBFA;\n",
              "      box-shadow: 0px 1px 2px rgba(60, 64, 67, 0.3), 0px 1px 3px 1px rgba(60, 64, 67, 0.15);\n",
              "      fill: #174EA6;\n",
              "    }\n",
              "\n",
              "    [theme=dark] .colab-df-convert {\n",
              "      background-color: #3B4455;\n",
              "      fill: #D2E3FC;\n",
              "    }\n",
              "\n",
              "    [theme=dark] .colab-df-convert:hover {\n",
              "      background-color: #434B5C;\n",
              "      box-shadow: 0px 1px 3px 1px rgba(0, 0, 0, 0.15);\n",
              "      filter: drop-shadow(0px 1px 2px rgba(0, 0, 0, 0.3));\n",
              "      fill: #FFFFFF;\n",
              "    }\n",
              "  </style>\n",
              "\n",
              "      <script>\n",
              "        const buttonEl =\n",
              "          document.querySelector('#df-ca0c1b33-951f-447f-9629-fa298c2651ef button.colab-df-convert');\n",
              "        buttonEl.style.display =\n",
              "          google.colab.kernel.accessAllowed ? 'block' : 'none';\n",
              "\n",
              "        async function convertToInteractive(key) {\n",
              "          const element = document.querySelector('#df-ca0c1b33-951f-447f-9629-fa298c2651ef');\n",
              "          const dataTable =\n",
              "            await google.colab.kernel.invokeFunction('convertToInteractive',\n",
              "                                                     [key], {});\n",
              "          if (!dataTable) return;\n",
              "\n",
              "          const docLinkHtml = 'Like what you see? Visit the ' +\n",
              "            '<a target=\"_blank\" href=https://colab.research.google.com/notebooks/data_table.ipynb>data table notebook</a>'\n",
              "            + ' to learn more about interactive tables.';\n",
              "          element.innerHTML = '';\n",
              "          dataTable['output_type'] = 'display_data';\n",
              "          await google.colab.output.renderOutput(dataTable, element);\n",
              "          const docLink = document.createElement('div');\n",
              "          docLink.innerHTML = docLinkHtml;\n",
              "          element.appendChild(docLink);\n",
              "        }\n",
              "      </script>\n",
              "    </div>\n",
              "  </div>\n",
              "  "
            ]
          },
          "metadata": {},
          "execution_count": 12
        }
      ]
    },
    {
      "cell_type": "code",
      "source": [
        "letter_frequency.loc[:,['1st position','2nd position','3rd position','4th position','5th position']].plot(kind='bar')"
      ],
      "metadata": {
        "colab": {
          "base_uri": "https://localhost:8080/",
          "height": 293
        },
        "id": "zdE1OAFi8xWT",
        "outputId": "99f806a0-9ff6-49b6-da00-bbaaefeb5316"
      },
      "execution_count": 13,
      "outputs": [
        {
          "output_type": "execute_result",
          "data": {
            "text/plain": [
              "<matplotlib.axes._subplots.AxesSubplot at 0x7f6d21a3a710>"
            ]
          },
          "metadata": {},
          "execution_count": 13
        },
        {
          "output_type": "display_data",
          "data": {
            "text/plain": [
              "<Figure size 432x288 with 1 Axes>"
            ],
            "image/png": "[encoded data removed]"
          },
          "metadata": {
            "needs_background": "light"
          }
        }
      ]
    },
    {
      "cell_type": "code",
      "source": [
        "a=[0,0,0,0,0]\n",
        "for i in range(len(data['word'])):\n",
        "  for j in range(5):\n",
        "    if data.iloc[i,j+2]=='a':\n",
        "      a[j]+=1\n",
        "b=[0,0,0,0,0]\n",
        "for i in range(len(data['word'])):\n",
        "  for j in range(5):\n",
        "    if data.iloc[i,j+2]=='b':\n",
        "      b[j]+=1\n",
        "c=[0,0,0,0,0]\n",
        "for i in range(len(data['word'])):\n",
        "  for j in range(5):\n",
        "    if data.iloc[i,j+2]=='c':\n",
        "      c[j]+=1 \n",
        "d=[0,0,0,0,0]\n",
        "for i in range(len(data['word'])):\n",
        "  for j in range(5):\n",
        "    if data.iloc[i,j+2]=='d':\n",
        "      d[j]+=1 \n",
        "e=[0,0,0,0,0]\n",
        "for i in range(len(data['word'])):\n",
        "  for j in range(5):\n",
        "    if data.iloc[i,j+2]=='e':\n",
        "      e[j]+=1\n",
        "f=[0,0,0,0,0]\n",
        "for i in range(len(data['word'])):\n",
        "  for j in range(5):\n",
        "    if data.iloc[i,j+2]=='f':\n",
        "      f[j]+=1 \n",
        "g=[0,0,0,0,0]\n",
        "for i in range(len(data['word'])):\n",
        "  for j in range(5):\n",
        "    if data.iloc[i,j+2]=='g':\n",
        "      g[j]+=1\n",
        "h=[0,0,0,0,0]\n",
        "for k in range(len(data['word'])):\n",
        "  for l in range(5):\n",
        "    if data.iloc[k,l+2]=='h':\n",
        "      h[l]+=1\n",
        "i=[0,0,0,0,0]\n",
        "for k in range(len(data['word'])):\n",
        "  for l in range(5):\n",
        "    if data.iloc[k,l+2]=='i':\n",
        "      i[l]+=1 \n",
        "j=[0,0,0,0,0]\n",
        "for k in range(len(data['word'])):\n",
        "  for l in range(5):\n",
        "    if data.iloc[k,l+2]=='j':\n",
        "      j[l]+=1\n",
        "k=[0,0,0,0,0]\n",
        "for i in range(len(data['word'])):\n",
        "  for j in range(5):\n",
        "    if data.iloc[i,j+2]=='k':\n",
        "      k[j]+=1 \n",
        "l=[0,0,0,0,0]\n",
        "for i in range(len(data['word'])):\n",
        "  for j in range(5):\n",
        "    if data.iloc[i,j+2]=='l':\n",
        "      l[j]+=1 \n",
        "m=[0,0,0,0,0]\n",
        "for i in range(len(data['word'])):\n",
        "  for j in range(5):\n",
        "    if data.iloc[i,j+2]=='m':\n",
        "      m[j]+=1\n",
        "n=[0,0,0,0,0]\n",
        "for i in range(len(data['word'])):\n",
        "  for j in range(5):\n",
        "    if data.iloc[i,j+2]=='n':\n",
        "      n[j]+=1\n",
        "o=[0,0,0,0,0]\n",
        "for i in range(len(data['word'])):\n",
        "  for j in range(5):\n",
        "    if data.iloc[i,j+2]=='o':\n",
        "      o[j]+=1 \n",
        "p=[0,0,0,0,0]\n",
        "for i in range(len(data['word'])):\n",
        "  for j in range(5):\n",
        "    if data.iloc[i,j+2]=='p':\n",
        "      p[j]+=1 \n",
        "q=[0,0,0,0,0]\n",
        "for i in range(len(data['word'])):\n",
        "  for j in range(5):\n",
        "    if data.iloc[i,j+2]=='q':\n",
        "      q[j]+=1 \n",
        "r=[0,0,0,0,0]\n",
        "for i in range(len(data['word'])):\n",
        "  for j in range(5):\n",
        "    if data.iloc[i,j+2]=='r':\n",
        "      r[j]+=1 \n",
        "s=[0,0,0,0,0]\n",
        "for i in range(len(data['word'])):\n",
        "  for j in range(5):\n",
        "    if data.iloc[i,j+2]=='s':\n",
        "      s[j]+=1  \n",
        "t=[0,0,0,0,0]\n",
        "for i in range(len(data['word'])):\n",
        "  for j in range(5):\n",
        "    if data.iloc[i,j+2]=='t':\n",
        "      t[j]+=1 \n",
        "u=[0,0,0,0,0]\n",
        "for i in range(len(data['word'])):\n",
        "  for j in range(5):\n",
        "    if data.iloc[i,j+2]=='u':\n",
        "      u[j]+=1 \n",
        "v=[0,0,0,0,0]\n",
        "for i in range(len(data['word'])):\n",
        "  for j in range(5):\n",
        "    if data.iloc[i,j+2]=='v':\n",
        "      v[j]+=1 \n",
        "w=[0,0,0,0,0]\n",
        "for i in range(len(data['word'])):\n",
        "  for j in range(5):\n",
        "    if data.iloc[i,j+2]=='w':\n",
        "      w[j]+=1 \n",
        "x=[0,0,0,0,0]\n",
        "for i in range(len(data['word'])):\n",
        "  for j in range(5):\n",
        "    if data.iloc[i,j+2]=='x':\n",
        "      x[j]+=1 \n",
        "y=[0,0,0,0,0]\n",
        "for i in range(len(data['word'])):\n",
        "  for j in range(5):\n",
        "    if data.iloc[i,j+2]=='y':\n",
        "      y[j]+=1 \n",
        "z=[0,0,0,0,0]\n",
        "for i in range(len(data['word'])):\n",
        "  for j in range(5):\n",
        "    if data.iloc[i,j+2]=='z':\n",
        "      z[j]+=1"
      ],
      "metadata": {
        "id": "9LXC6lSsmbCR"
      },
      "execution_count": 14,
      "outputs": []
    },
    {
      "cell_type": "code",
      "source": [
        "vi=[a,b,c,d,e,f,g,h,i,j,k,l,m,n,o,p,q,r,s,t,u,v,w,x,y,z]"
      ],
      "metadata": {
        "id": "FmaAfoIjnCkY"
      },
      "execution_count": 15,
      "outputs": []
    },
    {
      "cell_type": "code",
      "source": [
        "ca=pd.DataFrame.from_dict({})"
      ],
      "metadata": {
        "id": "I1dsyUAvnCm9"
      },
      "execution_count": 16,
      "outputs": []
    },
    {
      "cell_type": "code",
      "source": [
        "for i in range(26):\n",
        "  ca[letter[i]]=vi[i]"
      ],
      "metadata": {
        "id": "3S5orW31nCqR"
      },
      "execution_count": 17,
      "outputs": []
    },
    {
      "cell_type": "code",
      "source": [
        "letter_data=ca.transpose()\n",
        "letter_data['total frequency']=letter_data.sum(axis=1)"
      ],
      "metadata": {
        "id": "a1qRwY89nMn6"
      },
      "execution_count": 18,
      "outputs": []
    },
    {
      "cell_type": "code",
      "source": [
        "letter_frequency=letter_data.rename(columns={0:'1st position',1:'2nd position',2:'3rd position',3:'4th position',4:'5th position'},inplace=False)"
      ],
      "metadata": {
        "id": "fXHwymvFnMrS"
      },
      "execution_count": 19,
      "outputs": []
    },
    {
      "cell_type": "code",
      "source": [
        "letter_frequency"
      ],
      "metadata": {
        "colab": {
          "base_uri": "https://localhost:8080/",
          "height": 864
        },
        "id": "WpoJqJGGnX6B",
        "outputId": "0bb0e0b7-0afd-4f31-fba3-c84f9bc58946"
      },
      "execution_count": 20,
      "outputs": [
        {
          "output_type": "execute_result",
          "data": {
            "text/plain": [
              "   1st position  2nd position  3rd position  4th position  5th position  \\\n",
              "a          1072          3068          1469          1645          1477   \n",
              "b          1283           214           524           355           156   \n",
              "c          1303           445           782           928           476   \n",
              "d          1005           227           706           778           732   \n",
              "e           551          1963          1020          2510          2002   \n",
              "f           844           155           221           193           158   \n",
              "g           871           169           635           519           383   \n",
              "h           830           780           418           511           635   \n",
              "i         17825         17825         17825         17825         17825   \n",
              "j             4             4             4             4             4   \n",
              "k           835           158           428           628           500   \n",
              "l           884           883          1221           830           869   \n",
              "m          1296           346           834           554           442   \n",
              "n           731           537          1469          1189          1504   \n",
              "o           480          2434           988          1145          1227   \n",
              "p          1199           363           491           395           291   \n",
              "q             0             0             0             0             0   \n",
              "r           890          1334          1947          1064          1035   \n",
              "s          1622           468           921           719          2613   \n",
              "t          1071           447          1050          1130          1101   \n",
              "u           336          1567           888           741           298   \n",
              "v             0             0             0             0             0   \n",
              "w             0             0             0             0             0   \n",
              "x             0             0             0             0             0   \n",
              "y           192           480           370           256          1092   \n",
              "z             0             0             0             0             0   \n",
              "\n",
              "   total frequency  \n",
              "a             8731  \n",
              "b             2532  \n",
              "c             3934  \n",
              "d             3448  \n",
              "e             8046  \n",
              "f             1571  \n",
              "g             2577  \n",
              "h             3174  \n",
              "i            89125  \n",
              "j               20  \n",
              "k             2549  \n",
              "l             4687  \n",
              "m             3472  \n",
              "n             5430  \n",
              "o             6274  \n",
              "p             2739  \n",
              "q                0  \n",
              "r             6270  \n",
              "s             6343  \n",
              "t             4799  \n",
              "u             3830  \n",
              "v                0  \n",
              "w                0  \n",
              "x                0  \n",
              "y             2390  \n",
              "z                0  "
            ],
            "text/html": [
              "\n",
              "  <div id=\"df-241cabff-56f8-4163-990e-b30542f9d227\">\n",
              "    <div class=\"colab-df-container\">\n",
              "      <div>\n",
              "<style scoped>\n",
              "    .dataframe tbody tr th:only-of-type {\n",
              "        vertical-align: middle;\n",
              "    }\n",
              "\n",
              "    .dataframe tbody tr th {\n",
              "        vertical-align: top;\n",
              "    }\n",
              "\n",
              "    .dataframe thead th {\n",
              "        text-align: right;\n",
              "    }\n",
              "</style>\n",
              "<table border=\"1\" class=\"dataframe\">\n",
              "  <thead>\n",
              "    <tr style=\"text-align: right;\">\n",
              "      <th></th>\n",
              "      <th>1st position</th>\n",
              "      <th>2nd position</th>\n",
              "      <th>3rd position</th>\n",
              "      <th>4th position</th>\n",
              "      <th>5th position</th>\n",
              "      <th>total frequency</th>\n",
              "    </tr>\n",
              "  </thead>\n",
              "  <tbody>\n",
              "    <tr>\n",
              "      <th>a</th>\n",
              "      <td>1072</td>\n",
              "      <td>3068</td>\n",
              "      <td>1469</td>\n",
              "      <td>1645</td>\n",
              "      <td>1477</td>\n",
              "      <td>8731</td>\n",
              "    </tr>\n",
              "    <tr>\n",
              "      <th>b</th>\n",
              "      <td>1283</td>\n",
              "      <td>214</td>\n",
              "      <td>524</td>\n",
              "      <td>355</td>\n",
              "      <td>156</td>\n",
              "      <td>2532</td>\n",
              "    </tr>\n",
              "    <tr>\n",
              "      <th>c</th>\n",
              "      <td>1303</td>\n",
              "      <td>445</td>\n",
              "      <td>782</td>\n",
              "      <td>928</td>\n",
              "      <td>476</td>\n",
              "      <td>3934</td>\n",
              "    </tr>\n",
              "    <tr>\n",
              "      <th>d</th>\n",
              "      <td>1005</td>\n",
              "      <td>227</td>\n",
              "      <td>706</td>\n",
              "      <td>778</td>\n",
              "      <td>732</td>\n",
              "      <td>3448</td>\n",
              "    </tr>\n",
              "    <tr>\n",
              "      <th>e</th>\n",
              "      <td>551</td>\n",
              "      <td>1963</td>\n",
              "      <td>1020</td>\n",
              "      <td>2510</td>\n",
              "      <td>2002</td>\n",
              "      <td>8046</td>\n",
              "    </tr>\n",
              "    <tr>\n",
              "      <th>f</th>\n",
              "      <td>844</td>\n",
              "      <td>155</td>\n",
              "      <td>221</td>\n",
              "      <td>193</td>\n",
              "      <td>158</td>\n",
              "      <td>1571</td>\n",
              "    </tr>\n",
              "    <tr>\n",
              "      <th>g</th>\n",
              "      <td>871</td>\n",
              "      <td>169</td>\n",
              "      <td>635</td>\n",
              "      <td>519</td>\n",
              "      <td>383</td>\n",
              "      <td>2577</td>\n",
              "    </tr>\n",
              "    <tr>\n",
              "      <th>h</th>\n",
              "      <td>830</td>\n",
              "      <td>780</td>\n",
              "      <td>418</td>\n",
              "      <td>511</td>\n",
              "      <td>635</td>\n",
              "      <td>3174</td>\n",
              "    </tr>\n",
              "    <tr>\n",
              "      <th>i</th>\n",
              "      <td>17825</td>\n",
              "      <td>17825</td>\n",
              "      <td>17825</td>\n",
              "      <td>17825</td>\n",
              "      <td>17825</td>\n",
              "      <td>89125</td>\n",
              "    </tr>\n",
              "    <tr>\n",
              "      <th>j</th>\n",
              "      <td>4</td>\n",
              "      <td>4</td>\n",
              "      <td>4</td>\n",
              "      <td>4</td>\n",
              "      <td>4</td>\n",
              "      <td>20</td>\n",
              "    </tr>\n",
              "    <tr>\n",
              "      <th>k</th>\n",
              "      <td>835</td>\n",
              "      <td>158</td>\n",
              "      <td>428</td>\n",
              "      <td>628</td>\n",
              "      <td>500</td>\n",
              "      <td>2549</td>\n",
              "    </tr>\n",
              "    <tr>\n",
              "      <th>l</th>\n",
              "      <td>884</td>\n",
              "      <td>883</td>\n",
              "      <td>1221</td>\n",
              "      <td>830</td>\n",
              "      <td>869</td>\n",
              "      <td>4687</td>\n",
              "    </tr>\n",
              "    <tr>\n",
              "      <th>m</th>\n",
              "      <td>1296</td>\n",
              "      <td>346</td>\n",
              "      <td>834</td>\n",
              "      <td>554</td>\n",
              "      <td>442</td>\n",
              "      <td>3472</td>\n",
              "    </tr>\n",
              "    <tr>\n",
              "      <th>n</th>\n",
              "      <td>731</td>\n",
              "      <td>537</td>\n",
              "      <td>1469</td>\n",
              "      <td>1189</td>\n",
              "      <td>1504</td>\n",
              "      <td>5430</td>\n",
              "    </tr>\n",
              "    <tr>\n",
              "      <th>o</th>\n",
              "      <td>480</td>\n",
              "      <td>2434</td>\n",
              "      <td>988</td>\n",
              "      <td>1145</td>\n",
              "      <td>1227</td>\n",
              "      <td>6274</td>\n",
              "    </tr>\n",
              "    <tr>\n",
              "      <th>p</th>\n",
              "      <td>1199</td>\n",
              "      <td>363</td>\n",
              "      <td>491</td>\n",
              "      <td>395</td>\n",
              "      <td>291</td>\n",
              "      <td>2739</td>\n",
              "    </tr>\n",
              "    <tr>\n",
              "      <th>q</th>\n",
              "      <td>0</td>\n",
              "      <td>0</td>\n",
              "      <td>0</td>\n",
              "      <td>0</td>\n",
              "      <td>0</td>\n",
              "      <td>0</td>\n",
              "    </tr>\n",
              "    <tr>\n",
              "      <th>r</th>\n",
              "      <td>890</td>\n",
              "      <td>1334</td>\n",
              "      <td>1947</td>\n",
              "      <td>1064</td>\n",
              "      <td>1035</td>\n",
              "      <td>6270</td>\n",
              "    </tr>\n",
              "    <tr>\n",
              "      <th>s</th>\n",
              "      <td>1622</td>\n",
              "      <td>468</td>\n",
              "      <td>921</td>\n",
              "      <td>719</td>\n",
              "      <td>2613</td>\n",
              "      <td>6343</td>\n",
              "    </tr>\n",
              "    <tr>\n",
              "      <th>t</th>\n",
              "      <td>1071</td>\n",
              "      <td>447</td>\n",
              "      <td>1050</td>\n",
              "      <td>1130</td>\n",
              "      <td>1101</td>\n",
              "      <td>4799</td>\n",
              "    </tr>\n",
              "    <tr>\n",
              "      <th>u</th>\n",
              "      <td>336</td>\n",
              "      <td>1567</td>\n",
              "      <td>888</td>\n",
              "      <td>741</td>\n",
              "      <td>298</td>\n",
              "      <td>3830</td>\n",
              "    </tr>\n",
              "    <tr>\n",
              "      <th>v</th>\n",
              "      <td>0</td>\n",
              "      <td>0</td>\n",
              "      <td>0</td>\n",
              "      <td>0</td>\n",
              "      <td>0</td>\n",
              "      <td>0</td>\n",
              "    </tr>\n",
              "    <tr>\n",
              "      <th>w</th>\n",
              "      <td>0</td>\n",
              "      <td>0</td>\n",
              "      <td>0</td>\n",
              "      <td>0</td>\n",
              "      <td>0</td>\n",
              "      <td>0</td>\n",
              "    </tr>\n",
              "    <tr>\n",
              "      <th>x</th>\n",
              "      <td>0</td>\n",
              "      <td>0</td>\n",
              "      <td>0</td>\n",
              "      <td>0</td>\n",
              "      <td>0</td>\n",
              "      <td>0</td>\n",
              "    </tr>\n",
              "    <tr>\n",
              "      <th>y</th>\n",
              "      <td>192</td>\n",
              "      <td>480</td>\n",
              "      <td>370</td>\n",
              "      <td>256</td>\n",
              "      <td>1092</td>\n",
              "      <td>2390</td>\n",
              "    </tr>\n",
              "    <tr>\n",
              "      <th>z</th>\n",
              "      <td>0</td>\n",
              "      <td>0</td>\n",
              "      <td>0</td>\n",
              "      <td>0</td>\n",
              "      <td>0</td>\n",
              "      <td>0</td>\n",
              "    </tr>\n",
              "  </tbody>\n",
              "</table>\n",
              "</div>\n",
              "      <button class=\"colab-df-convert\" onclick=\"convertToInteractive('df-241cabff-56f8-4163-990e-b30542f9d227')\"\n",
              "              title=\"Convert this dataframe to an interactive table.\"\n",
              "              style=\"display:none;\">\n",
              "        \n",
              "  <svg xmlns=\"http://www.w3.org/2000/svg\" height=\"24px\"viewBox=\"0 0 24 24\"\n",
              "       width=\"24px\">\n",
              "    <path d=\"M0 0h24v24H0V0z\" fill=\"none\"/>\n",
              "    <path d=\"M18.56 5.44l.94 2.06.94-2.06 2.06-.94-2.06-.94-.94-2.06-.94 2.06-2.06.94zm-11 1L8.5 8.5l.94-2.06 2.06-.94-2.06-.94L8.5 2.5l-.94 2.06-2.06.94zm10 10l.94 2.06.94-2.06 2.06-.94-2.06-.94-.94-2.06-.94 2.06-2.06.94z\"/><path d=\"M17.41 7.96l-1.37-1.37c-.4-.4-.92-.59-1.43-.59-.52 0-1.04.2-1.43.59L10.3 9.45l-7.72 7.72c-.78.78-.78 2.05 0 2.83L4 21.41c.39.39.9.59 1.41.59.51 0 1.02-.2 1.41-.59l7.78-7.78 2.81-2.81c.8-.78.8-2.07 0-2.86zM5.41 20L4 18.59l7.72-7.72 1.47 1.35L5.41 20z\"/>\n",
              "  </svg>\n",
              "      </button>\n",
              "      \n",
              "  <style>\n",
              "    .colab-df-container {\n",
              "      display:flex;\n",
              "      flex-wrap:wrap;\n",
              "      gap: 12px;\n",
              "    }\n",
              "\n",
              "    .colab-df-convert {\n",
              "      background-color: #E8F0FE;\n",
              "      border: none;\n",
              "      border-radius: 50%;\n",
              "      cursor: pointer;\n",
              "      display: none;\n",
              "      fill: #1967D2;\n",
              "      height: 32px;\n",
              "      padding: 0 0 0 0;\n",
              "      width: 32px;\n",
              "    }\n",
              "\n",
              "    .colab-df-convert:hover {\n",
              "      background-color: #E2EBFA;\n",
              "      box-shadow: 0px 1px 2px rgba(60, 64, 67, 0.3), 0px 1px 3px 1px rgba(60, 64, 67, 0.15);\n",
              "      fill: #174EA6;\n",
              "    }\n",
              "\n",
              "    [theme=dark] .colab-df-convert {\n",
              "      background-color: #3B4455;\n",
              "      fill: #D2E3FC;\n",
              "    }\n",
              "\n",
              "    [theme=dark] .colab-df-convert:hover {\n",
              "      background-color: #434B5C;\n",
              "      box-shadow: 0px 1px 3px 1px rgba(0, 0, 0, 0.15);\n",
              "      filter: drop-shadow(0px 1px 2px rgba(0, 0, 0, 0.3));\n",
              "      fill: #FFFFFF;\n",
              "    }\n",
              "  </style>\n",
              "\n",
              "      <script>\n",
              "        const buttonEl =\n",
              "          document.querySelector('#df-241cabff-56f8-4163-990e-b30542f9d227 button.colab-df-convert');\n",
              "        buttonEl.style.display =\n",
              "          google.colab.kernel.accessAllowed ? 'block' : 'none';\n",
              "\n",
              "        async function convertToInteractive(key) {\n",
              "          const element = document.querySelector('#df-241cabff-56f8-4163-990e-b30542f9d227');\n",
              "          const dataTable =\n",
              "            await google.colab.kernel.invokeFunction('convertToInteractive',\n",
              "                                                     [key], {});\n",
              "          if (!dataTable) return;\n",
              "\n",
              "          const docLinkHtml = 'Like what you see? Visit the ' +\n",
              "            '<a target=\"_blank\" href=https://colab.research.google.com/notebooks/data_table.ipynb>data table notebook</a>'\n",
              "            + ' to learn more about interactive tables.';\n",
              "          element.innerHTML = '';\n",
              "          dataTable['output_type'] = 'display_data';\n",
              "          await google.colab.output.renderOutput(dataTable, element);\n",
              "          const docLink = document.createElement('div');\n",
              "          docLink.innerHTML = docLinkHtml;\n",
              "          element.appendChild(docLink);\n",
              "        }\n",
              "      </script>\n",
              "    </div>\n",
              "  </div>\n",
              "  "
            ]
          },
          "metadata": {},
          "execution_count": 20
        }
      ]
    },
    {
      "cell_type": "markdown",
      "source": [
        "## Ex 3\n",
        "lp model for finding which letter is more frequent and what is position of that letter"
      ],
      "metadata": {
        "id": "leJYOgUUF4pq"
      }
    },
    {
      "cell_type": "code",
      "execution_count": 21,
      "metadata": {
        "id": "3C2p3K2dm_al"
      },
      "outputs": [],
      "source": [
        "!pip install -q pyomo"
      ]
    },
    {
      "cell_type": "code",
      "execution_count": 22,
      "metadata": {
        "id": "aBA0tzFewGYc"
      },
      "outputs": [],
      "source": [
        "from pyomo.environ import *"
      ]
    },
    {
      "cell_type": "code",
      "execution_count": 23,
      "metadata": {
        "id": "yDee9HH5yZzP"
      },
      "outputs": [],
      "source": [
        "m=ConcreteModel()"
      ]
    },
    {
      "cell_type": "code",
      "execution_count": 24,
      "metadata": {
        "id": "_l6eQaHtBseY"
      },
      "outputs": [],
      "source": [
        "m.x=Var(range(26),range(5),domain=Binary)"
      ]
    },
    {
      "cell_type": "code",
      "execution_count": 25,
      "metadata": {
        "id": "Dv0C-WkMCILu"
      },
      "outputs": [],
      "source": [
        "m.objective=Objective(expr=sum(letter_data.iloc[i,j]*m.x[i,j] for i in range(26) for j in range(5)),sense=maximize)"
      ]
    },
    {
      "cell_type": "code",
      "execution_count": 26,
      "metadata": {
        "id": "EEwk2Q9xCrnI"
      },
      "outputs": [],
      "source": [
        "m.constraint=ConstraintList()"
      ]
    },
    {
      "cell_type": "code",
      "execution_count": 27,
      "metadata": {
        "colab": {
          "base_uri": "https://localhost:8080/"
        },
        "id": "XTvQgV4uC0AA",
        "outputId": "f41cff22-617d-45cf-d64a-438b4cfdd0ab"
      },
      "outputs": [
        {
          "output_type": "execute_result",
          "data": {
            "text/plain": [
              "<pyomo.core.base.constraint._GeneralConstraintData at 0x7f6d21ca5d00>"
            ]
          },
          "metadata": {},
          "execution_count": 27
        }
      ],
      "source": [
        "m.constraint.add(sum(m.x[i,j] for i in range(26) for j in range(5))==5)"
      ]
    },
    {
      "cell_type": "code",
      "execution_count": 28,
      "metadata": {
        "id": "0GOZNOfdESQ5"
      },
      "outputs": [],
      "source": [
        "for i in range(26):\n",
        "  m.constraint.add(sum(m.x[i,j] for j in range(5)) <=1)"
      ]
    },
    {
      "cell_type": "code",
      "execution_count": 29,
      "metadata": {
        "id": "p3wX7C__ESTW"
      },
      "outputs": [],
      "source": [
        "for i in range(5):\n",
        "  m.constraint.add(sum(m.x[j,i] for j in range(26)) <=1)"
      ]
    },
    {
      "cell_type": "code",
      "execution_count": 30,
      "metadata": {
        "id": "pbFU-Q_VDG0m"
      },
      "outputs": [],
      "source": [
        "!apt-get install -y -qq coinor-cbc"
      ]
    },
    {
      "cell_type": "code",
      "execution_count": 31,
      "metadata": {
        "colab": {
          "base_uri": "https://localhost:8080/"
        },
        "id": "jvrSPbZEDMxX",
        "outputId": "816f4276-d5c0-475c-e815-cbcc97dff9ff"
      },
      "outputs": [
        {
          "output_type": "stream",
          "name": "stdout",
          "text": [
            "Solver status: ok\n",
            "Solver termination condition: optimal\n",
            "\n",
            "Objective =  27963.0\n",
            "\n",
            "Problem: \n",
            "- Name: unknown\n",
            "  Lower bound: 27963.0\n",
            "  Upper bound: 27963.0\n",
            "  Number of objectives: 1\n",
            "  Number of constraints: 32\n",
            "  Number of variables: 130\n",
            "  Number of binary variables: 130\n",
            "  Number of integer variables: 130\n",
            "  Number of nonzeros: 105\n",
            "  Sense: maximize\n",
            "Solver: \n",
            "- Status: ok\n",
            "  User time: -1.0\n",
            "  System time: 0.01\n",
            "  Wallclock time: 0.01\n",
            "  Termination condition: optimal\n",
            "  Termination message: Model was solved to optimality (subject to tolerances), and an optimal solution is available.\n",
            "  Statistics: \n",
            "    Branch and bound: \n",
            "      Number of bounded subproblems: 0\n",
            "      Number of created subproblems: 0\n",
            "    Black box: \n",
            "      Number of iterations: 0\n",
            "  Error rc: 0\n",
            "  Time: 0.051195383071899414\n",
            "Solution: \n",
            "- number of solutions: 0\n",
            "  number of solutions displayed: 0\n",
            "\n"
          ]
        }
      ],
      "source": [
        "  opt_cbc=SolverFactory('cbc')\n",
        "  result = opt_cbc.solve(m)\n",
        "  print('Solver status:', result.solver.status)\n",
        "  print('Solver termination condition:',result.solver.termination_condition)\n",
        "  print('\\nObjective = ', m.objective())\n",
        "  print(result)"
      ]
    },
    {
      "cell_type": "code",
      "execution_count": 32,
      "metadata": {
        "colab": {
          "base_uri": "https://localhost:8080/"
        },
        "id": "ag63QI7tDQaa",
        "outputId": "cfd1755f-a73a-4dd0-a039-d1c7f80206fd"
      },
      "outputs": [
        {
          "output_type": "stream",
          "name": "stdout",
          "text": [
            "a at position 1\n",
            "e at position 3\n",
            "i at position 0\n",
            "r at position 2\n",
            "s at position 4\n"
          ]
        }
      ],
      "source": [
        "for i in range(26):\n",
        "  for j in range(5):\n",
        "    if m.x[i,j]()==1:\n",
        "      print(letter[i],'at position',j)\n",
        "      for k in range(5):\n",
        "        letter_data.loc[str(letter[i]),k]=0"
      ]
    },
    {
      "cell_type": "markdown",
      "source": [
        "for 1st word\n",
        "\n",
        "a at position 2\n",
        "\n",
        "e at position 3\n",
        "\n",
        "o at position 1\n",
        "\n",
        "s at position 4\n",
        "\n",
        "t at position 0\n"
      ],
      "metadata": {
        "id": "pDrHqiGvGOUY"
      }
    },
    {
      "cell_type": "code",
      "execution_count": 33,
      "metadata": {
        "id": "CceYnKic_KHy"
      },
      "outputs": [],
      "source": [
        "m=ConcreteModel()\n",
        "m.x=Var(range(26),range(5),domain=Binary)\n",
        "m.objective=Objective(expr=sum(letter_data.iloc[i,j]*m.x[i,j] for i in range(26) for j in range(5)),sense=maximize)\n",
        "m.constraint=ConstraintList()\n",
        "m.constraint.add(sum(m.x[i,j] for i in range(26) for j in range(5))==5)\n",
        "for i in range(26):\n",
        "  m.constraint.add(sum(m.x[i,j] for j in range(5)) <=1)\n",
        "for i in range(5):\n",
        "  m.constraint.add(sum(m.x[j,i] for j in range(26)) <=1)"
      ]
    },
    {
      "cell_type": "code",
      "execution_count": 34,
      "metadata": {
        "colab": {
          "base_uri": "https://localhost:8080/"
        },
        "id": "wKJb_DClBAib",
        "outputId": "572bfa93-40d6-43c0-b47a-aabbcd28a299"
      },
      "outputs": [
        {
          "output_type": "stream",
          "name": "stdout",
          "text": [
            "Solver status: ok\n",
            "Solver termination condition: optimal\n",
            "\n",
            "Objective =  7592.0\n",
            "\n",
            "Problem: \n",
            "- Name: unknown\n",
            "  Lower bound: 7592.0\n",
            "  Upper bound: 7592.0\n",
            "  Number of objectives: 1\n",
            "  Number of constraints: 32\n",
            "  Number of variables: 130\n",
            "  Number of binary variables: 130\n",
            "  Number of integer variables: 130\n",
            "  Number of nonzeros: 80\n",
            "  Sense: maximize\n",
            "Solver: \n",
            "- Status: ok\n",
            "  User time: -1.0\n",
            "  System time: 0.01\n",
            "  Wallclock time: 0.02\n",
            "  Termination condition: optimal\n",
            "  Termination message: Model was solved to optimality (subject to tolerances), and an optimal solution is available.\n",
            "  Statistics: \n",
            "    Branch and bound: \n",
            "      Number of bounded subproblems: 0\n",
            "      Number of created subproblems: 0\n",
            "    Black box: \n",
            "      Number of iterations: 0\n",
            "  Error rc: 0\n",
            "  Time: 0.04201865196228027\n",
            "Solution: \n",
            "- number of solutions: 0\n",
            "  number of solutions displayed: 0\n",
            "\n"
          ]
        }
      ],
      "source": [
        "  opt_cbc=SolverFactory('cbc')\n",
        "  result = opt_cbc.solve(m)\n",
        "  print('Solver status:', result.solver.status)\n",
        "  print('Solver termination condition:',result.solver.termination_condition)\n",
        "  print('\\nObjective = ', m.objective())\n",
        "  print(result)"
      ]
    },
    {
      "cell_type": "code",
      "execution_count": 35,
      "metadata": {
        "id": "72TeNtwpFBEQ",
        "colab": {
          "base_uri": "https://localhost:8080/"
        },
        "outputId": "bd29f6a2-7ffc-45c0-f183-c89a57fdcca4"
      },
      "outputs": [
        {
          "output_type": "stream",
          "name": "stdout",
          "text": [
            "c at position 0\n",
            "l at position 2\n",
            "n at position 4\n",
            "o at position 1\n",
            "t at position 3\n"
          ]
        }
      ],
      "source": [
        "for i in range(26):\n",
        "  for j in range(5):\n",
        "    if m.x[i,j]()==1:\n",
        "      print(letter[i],'at position',j)\n",
        "      for k in range(5):\n",
        "        letter_data.loc[str(letter[i]),k]=0"
      ]
    },
    {
      "cell_type": "markdown",
      "source": [
        "for second word\n",
        "\n",
        "h at position 1\n",
        "\n",
        "n at position 3\n",
        "\n",
        "p at position 0\n",
        "\n",
        "r at position 4\n",
        "\n",
        "u at position 2"
      ],
      "metadata": {
        "id": "xoHIwiqztxFU"
      }
    },
    {
      "cell_type": "code",
      "execution_count": 36,
      "metadata": {
        "id": "bXqeie2uFBG4"
      },
      "outputs": [],
      "source": [
        "m=ConcreteModel()\n",
        "m.x=Var(range(26),range(5),domain=Binary)\n",
        "m.objective=Objective(expr=sum(letter_data.iloc[i,j]*m.x[i,j] for i in range(26) for j in range(5)),sense=maximize)\n",
        "m.constraint=ConstraintList()\n",
        "m.constraint.add(sum(m.x[i,j] for i in range(26) for j in range(5))==5)\n",
        "for i in range(26):\n",
        "  m.constraint.add(sum(m.x[i,j] for j in range(5)) <=1)\n",
        "for i in range(5):\n",
        "  m.constraint.add(sum(m.x[j,i] for j in range(26)) <=1)"
      ]
    },
    {
      "cell_type": "code",
      "execution_count": 37,
      "metadata": {
        "id": "q_NW0HI8FBJb",
        "colab": {
          "base_uri": "https://localhost:8080/"
        },
        "outputId": "f5e92d17-f37e-451d-9bf6-658877b2d370"
      },
      "outputs": [
        {
          "output_type": "stream",
          "name": "stdout",
          "text": [
            "Solver status: ok\n",
            "Solver termination condition: optimal\n",
            "\n",
            "Objective =  5554.0\n",
            "\n",
            "Problem: \n",
            "- Name: unknown\n",
            "  Lower bound: 5554.0\n",
            "  Upper bound: 5554.0\n",
            "  Number of objectives: 1\n",
            "  Number of constraints: 32\n",
            "  Number of variables: 130\n",
            "  Number of binary variables: 130\n",
            "  Number of integer variables: 130\n",
            "  Number of nonzeros: 55\n",
            "  Sense: maximize\n",
            "Solver: \n",
            "- Status: ok\n",
            "  User time: -1.0\n",
            "  System time: 0.01\n",
            "  Wallclock time: 0.01\n",
            "  Termination condition: optimal\n",
            "  Termination message: Model was solved to optimality (subject to tolerances), and an optimal solution is available.\n",
            "  Statistics: \n",
            "    Branch and bound: \n",
            "      Number of bounded subproblems: 0\n",
            "      Number of created subproblems: 0\n",
            "    Black box: \n",
            "      Number of iterations: 0\n",
            "  Error rc: 0\n",
            "  Time: 0.0329282283782959\n",
            "Solution: \n",
            "- number of solutions: 0\n",
            "  number of solutions displayed: 0\n",
            "\n"
          ]
        }
      ],
      "source": [
        "  opt_cbc=SolverFactory('cbc')\n",
        "  result = opt_cbc.solve(m)\n",
        "  print('Solver status:', result.solver.status)\n",
        "  print('Solver termination condition:',result.solver.termination_condition)\n",
        "  print('\\nObjective = ', m.objective())\n",
        "  print(result)"
      ]
    },
    {
      "cell_type": "code",
      "execution_count": 38,
      "metadata": {
        "id": "rgZ_IhWbFBNE",
        "colab": {
          "base_uri": "https://localhost:8080/"
        },
        "outputId": "21aceceb-b30a-4b17-f870-44fd25420818"
      },
      "outputs": [
        {
          "output_type": "stream",
          "name": "stdout",
          "text": [
            "b at position 0\n",
            "d at position 3\n",
            "m at position 2\n",
            "u at position 1\n",
            "y at position 4\n"
          ]
        }
      ],
      "source": [
        "for i in range(26):\n",
        "  for j in range(5):\n",
        "    if m.x[i,j]()==1:\n",
        "      print(letter[i],'at position',j)\n",
        "      for k in range(5):\n",
        "        letter_data.loc[str(letter[i]),k]=0"
      ]
    },
    {
      "cell_type": "markdown",
      "source": [
        "for 3 rd word \n",
        "\n",
        "c at position 3\n",
        "\n",
        "d at position 4\n",
        "\n",
        "f at position 0\n",
        "\n",
        "g at position 2\n",
        "\n",
        "l at position 1"
      ],
      "metadata": {
        "id": "5V84u09pt7_g"
      }
    },
    {
      "cell_type": "code",
      "source": [
        "m=ConcreteModel()\n",
        "m.x=Var(range(26),range(5),domain=Binary)\n",
        "m.objective=Objective(expr=sum(letter_data.iloc[i,j]*m.x[i,j] for i in range(26) for j in range(5)),sense=maximize)\n",
        "m.constraint=ConstraintList()\n",
        "m.constraint.add(sum(m.x[i,j] for i in range(26) for j in range(5))==5)\n",
        "for i in range(26):\n",
        "  m.constraint.add(sum(m.x[i,j] for j in range(5)) <=1)\n",
        "for i in range(5):\n",
        "  m.constraint.add(sum(m.x[j,i] for j in range(26)) <=1)"
      ],
      "metadata": {
        "id": "SBtOY-JI1K_L"
      },
      "execution_count": 39,
      "outputs": []
    },
    {
      "cell_type": "code",
      "source": [
        "  opt_cbc=SolverFactory('cbc')\n",
        "  result = opt_cbc.solve(m)\n",
        "  print('Solver status:', result.solver.status)\n",
        "  print('Solver termination condition:',result.solver.termination_condition)\n",
        "  print('\\nObjective = ', m.objective())\n",
        "  print(result)"
      ],
      "metadata": {
        "colab": {
          "base_uri": "https://localhost:8080/"
        },
        "id": "sKkn_Yv91O5t",
        "outputId": "ea62474a-992f-4570-f95b-ad64f1a2dcfb"
      },
      "execution_count": 40,
      "outputs": [
        {
          "output_type": "stream",
          "name": "stdout",
          "text": [
            "Solver status: ok\n",
            "Solver termination condition: optimal\n",
            "\n",
            "Objective =  3400.0\n",
            "\n",
            "Problem: \n",
            "- Name: unknown\n",
            "  Lower bound: 3400.0\n",
            "  Upper bound: 3400.0\n",
            "  Number of objectives: 1\n",
            "  Number of constraints: 32\n",
            "  Number of variables: 130\n",
            "  Number of binary variables: 130\n",
            "  Number of integer variables: 130\n",
            "  Number of nonzeros: 30\n",
            "  Sense: maximize\n",
            "Solver: \n",
            "- Status: ok\n",
            "  User time: -1.0\n",
            "  System time: 0.01\n",
            "  Wallclock time: 0.01\n",
            "  Termination condition: optimal\n",
            "  Termination message: Model was solved to optimality (subject to tolerances), and an optimal solution is available.\n",
            "  Statistics: \n",
            "    Branch and bound: \n",
            "      Number of bounded subproblems: 0\n",
            "      Number of created subproblems: 0\n",
            "    Black box: \n",
            "      Number of iterations: 0\n",
            "  Error rc: 0\n",
            "  Time: 0.034104108810424805\n",
            "Solution: \n",
            "- number of solutions: 0\n",
            "  number of solutions displayed: 0\n",
            "\n"
          ]
        }
      ]
    },
    {
      "cell_type": "code",
      "source": [
        "for i in range(26):\n",
        "  for j in range(5):\n",
        "    if m.x[i,j]()==1:\n",
        "      print(letter[i],'at position',j)\n",
        "      for k in range(5):\n",
        "        letter_data.loc[str(letter[i]),k]=0"
      ],
      "metadata": {
        "colab": {
          "base_uri": "https://localhost:8080/"
        },
        "id": "cFquGNYF1O9E",
        "outputId": "99c06b14-e3f9-471a-bb66-ed340b342353"
      },
      "execution_count": 41,
      "outputs": [
        {
          "output_type": "stream",
          "name": "stdout",
          "text": [
            "f at position 4\n",
            "g at position 2\n",
            "h at position 1\n",
            "k at position 3\n",
            "p at position 0\n"
          ]
        }
      ]
    },
    {
      "cell_type": "code",
      "source": [],
      "metadata": {
        "id": "Ns6HmKYYGLSC"
      },
      "execution_count": 41,
      "outputs": []
    },
    {
      "cell_type": "markdown",
      "source": [
        "for fourth word\n",
        "\n",
        "b at position 0\n",
        "\n",
        "i at position 1\n",
        "\n",
        "k at position 3\n",
        "\n",
        "m at position 2\n",
        "\n",
        "y at position 4"
      ],
      "metadata": {
        "id": "C2k6gBSCuEjK"
      }
    }
  ],
  "metadata": {
    "colab": {
      "collapsed_sections": [],
      "provenance": []
    },
    "kernelspec": {
      "display_name": "Python 3",
      "name": "python3"
    },
    "language_info": {
      "name": "python"
    }
  },
  "nbformat": 4,
  "nbformat_minor": 0
}